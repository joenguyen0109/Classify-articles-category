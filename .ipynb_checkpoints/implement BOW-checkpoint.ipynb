{
 "cells": [
  {
   "cell_type": "code",
   "execution_count": 64,
   "metadata": {},
   "outputs": [],
   "source": [
    "import bs4\n",
    "from urllib.request import urlopen as uReq\n",
    "from bs4 import BeautifulSoup as soup\n",
    "import pandas as pd\n",
    "from sklearn import model_selection, preprocessing, linear_model, naive_bayes, metrics, svm\n",
    "from sklearn.feature_extraction.text import TfidfVectorizer, CountVectorizer\n",
    "from sklearn import decomposition, ensemble\n"
   ]
  },
  {
   "cell_type": "code",
   "execution_count": 65,
   "metadata": {
    "collapsed": true
   },
   "outputs": [],
   "source": [
    "def load_page_content(url):\t\n",
    "\t#url = 'https://vnexpress.net/dai-hoc-quoc-gia-tp-hcm-to-chuc-mot-dot-danh-gia-nang-luc-4100144.html'\n",
    "\tuClient = uReq(url)\n",
    "\n",
    "\tpage_html = uClient.read()\n",
    "\n",
    "\tuClient.close()\n",
    "\n",
    "\tpage_soup = soup(page_html,\"html.parser\")\n",
    "\n",
    "\tpage_content = ''\n",
    "\n",
    "\tcontainers = page_soup.findAll(\"p\",{\"class\":\"description\"})\n",
    "\n",
    "\tfor string in containers:\n",
    "\t\tpage_content = page_content + ' ' + string.get_text()\n",
    "\n",
    "\tcontainers = page_soup.findAll(\"p\",{\"class\":\"Normal\"})\n",
    "\n",
    "\tfor string in containers:\n",
    "\t\tpage_content = page_content + ' ' + string.get_text()\n",
    "\n",
    "\treturn page_content"
   ]
  },
  {
   "cell_type": "code",
   "execution_count": 67,
   "metadata": {
    "scrolled": true
   },
   "outputs": [
    {
     "name": "stdout",
     "output_type": "stream",
     "text": [
      "giao-duc-link.txt\n",
      "https://vnexpress.net/thay-doi-ke-hoach-du-hoc-vi-covid-19-4100425.html\n",
      "https://vnexpress.net/45-hoc-sinh-ngo-doc-sau-khi-uong-nuoc-ngot-4100357.html\n",
      "https://vnexpress.net/cau-be-10-tuoi-tro-thanh-ngoi-sao-nau-an-4100386.html\n",
      "https://vnexpress.net/luyen-tap-ve-cau-chu-dong-bi-dong-4100146.html\n",
      "https://vnexpress.net/tuong-lai-rong-mo-cho-nganh-tai-chinh-ke-toan-thoi-4-0-4099682.html\n",
      "https://vnexpress.net/ong-hut-choc-thung-khoai-tay-4097836.html\n",
      "https://vnexpress.net/carve-out-time-nghia-la-gi-4100133.html\n",
      "https://vnexpress.net/bon-cau-do-dien-so-4100157.html\n",
      "https://vnexpress.net/duoc-va-mat-cua-du-hoc-sinh-viet-khi-mac-covid-19-4099485.html\n",
      "https://vnexpress.net/be-gai-duoc-vi-nhu-harry-potter-4099816.html\n",
      "https://vnexpress.net/truong-hoc-vao-top-10-du-an-kien-truc-the-gioi-4099566.html\n",
      "https://vnexpress.net/phu-huynh-quoc-te-viet-uc-tiep-tuc-phan-doi-truong-4099560.html\n",
      "https://vnexpress.net/truong-cong-an-tuyen-sinh-bang-diem-thi-tot-nghiep-thpt-4100177.html\n",
      "https://vnexpress.net/dai-hoc-quoc-gia-tp-hcm-to-chuc-mot-dot-danh-gia-nang-luc-4100144.html\n",
      "https://vnexpress.net/phuong-an-tuyen-sinh-cua-truong-toa-an-kiem-sat-ha-noi-4100080.html\n",
      "https://vnexpress.net/luyen-kha-nang-tu-duy-bang-tieng-anh-4099568.html\n",
      "https://vnexpress.net/tour-trai-nghiem-online-khoa-du-lich-hsu-4100019.html\n",
      "https://vnexpress.net/20-tinh-dat-bo-sach-giao-khoa-canh-dieu-4099987.html\n",
      "https://vnexpress.net/4-cach-tao-cam-hung-kham-pha-khoa-hoc-cho-tre-4098907.html\n",
      "https://vnexpress.net/to-giay-chan-nuoc-4097831.html\n",
      "https://vnexpress.net/nghia-cua-cum-do-anything-rash-4099482.html\n",
      "https://vnexpress.net/phuong-an-tuyen-sinh-cua-hoc-vien-ngoai-giao-4099516.html\n",
      "https://vnexpress.net/nha-tre-viet-nam-vao-top-10-du-an-kien-truc-the-gioi-4099447.html\n",
      "https://vnexpress.net/cong-an-da-nang-duoc-dao-tao-ngoai-ngu-4099317.html\n",
      "https://vnexpress.net/giup-tre-xay-dung-tinh-quyet-doan-4098988.html\n",
      "https://vnexpress.net/truong-quan-doi-xet-tuyen-bang-diem-thi-tot-nghiep-thpt-4099509.html\n",
      "https://vnexpress.net/truong-tu-phai-thoa-thuan-hoc-phi-online-voi-phu-huynh-4099467.html\n",
      "https://vnexpress.net/nhieu-giao-vien-han-quoc-tung-ghe-tham-cum-dich-moi-4099301.html\n",
      "https://vnexpress.net/dai-hoc-kinh-te-quoc-dan-lay-60-chi-tieu-thi-tot-nghiep-thpt-4099134.html\n",
      "https://vnexpress.net/trac-nghiem-dang-so-nhieu-cua-danh-tu-4098981.html\n",
      "https://vnexpress.net/nen-tang-sach-dien-tu-cua-nha-xuat-ban-giao-duc-viet-nam-4099116.html\n",
      "https://vnexpress.net/con-10-ngay-ung-tuyen-hoc-bong-dai-su-vuong-quoc-anh-4098877.html\n",
      "https://vnexpress.net/con-sau-giay-4097754.html\n",
      "https://vnexpress.net/over-the-top-la-gi-4098985.html\n",
      "https://vnexpress.net/ke-hoach-tuyen-sinh-dau-cap-nam-2020-cua-tp-hcm-4098706.html\n",
      "https://vnexpress.net/thu-tai-tim-diem-bat-hop-ly-4098971.html\n",
      "https://vnexpress.net/nu-sinh-tinh-nguyen-chong-dich-4098879.html\n",
      "https://vnexpress.net/dai-hoc-giao-thong-van-tai-bo-sung-hai-phuong-thuc-xet-tuyen-4098611.html\n",
      "https://vnexpress.net/dai-hoc-dien-luc-cong-bo-phuong-an-tuyen-sinh-4098554.html\n",
      "https://vnexpress.net/tuyen-duong-luu-hoc-sinh-lao-vi-cuu-nguoi-tu-tu-4098335.html\n",
      "https://vnexpress.net/thanh-ngu-tieng-anh-lay-cam-hung-tu-cac-mua-4098362.html\n",
      "https://vnexpress.net/luyen-tap-ve-cau-gian-tiep-4098359.html\n",
      "https://vnexpress.net/si-tu-ke-lo-nguoi-mung-truoc-thay-doi-thi-thpt-4098020.html\n",
      "https://vnexpress.net/tach-long-do-trung-4097564.html\n",
      "https://vnexpress.net/phu-huynh-doi-truong-quoc-te-hoan-hoc-phi-mua-dich-4098388.html\n",
      "https://vnexpress.net/166-hoc-sinh-duoc-nang-diem-se-thi-lai-4098405.html\n",
      "https://vnexpress.net/chang-trai-trung-tuyen-8-truong-ivy-league-4098329.html\n",
      "https://vnexpress.net/co-giao-thay-doi-sau-con-ac-mong-cua-hoc-tro-4098103.html\n",
      "https://vnexpress.net/nam-cau-do-ve-cong-trinh-noi-tieng-4098154.html\n",
      "https://vnexpress.net/dai-hoc-khoa-hoc-tu-nhien-co-hieu-truong-moi-4098118.html\n",
      "https://vnexpress.net/ba-ly-do-nguoi-viet-phat-am-tieng-anh-sai-4098087.html\n",
      "phap-luat-link.txt\n",
      "https://vnexpress.net/bi-cao-toi-chap-nhan-la-ke-phan-boi-4100201.html\n",
      "https://vnexpress.net/cach-thoat-than-khi-bi-khoa-tay-phia-sau-4099857.html\n",
      "https://vnexpress.net/dieu-tra-toi-ac-tu-vien-dan-trong-than-cay-4099597.html\n",
      "https://vnexpress.net/bang-cuop-giat-chuyen-nghiep-4100453.html\n",
      "https://vnexpress.net/bi-cao-khai-co-quan-dieu-tra-nghe-trom-dien-thoai-4099906.html\n",
      "https://vnexpress.net/linh-an-vi-doat-mang-3-ba-chau-4099953.html\n",
      "https://vnexpress.net/quen-mang-giay-to-xe-se-bi-phat-nhu-loi-khong-co-4099992.html\n",
      "https://vnexpress.net/dam-o-4-be-ga-i-cu-u-ca-n-bo-trung-tam-xa-hoi-li-nh-a-n-4099862.html\n",
      "https://vnexpress.net/giao-vien-biet-cham-thi-ma-bi-di-tu-da-bo-nghe-4099842.html\n",
      "https://vnexpress.net/giam-doc-don-vi-thi-cong-tuong-sap-bi-bat-4099758.html\n",
      "https://vnexpress.net/cuu-hieu-truong-xin-loi-phu-huynh-do-tu-y-nang-diem-4099585.html\n",
      "https://vnexpress.net/lo-toi-giet-chong-tu-loi-chinh-ta-4099032.html\n",
      "https://vnexpress.net/tai-sao-canh-sat-my-ban-ha-nguoi-chong-doi-4099427.html\n",
      "https://vnexpress.net/sai-pham-o-cao-toc-34-500-ty-dong-khien-10-nguoi-vuong-lao-ly-4098744.html\n",
      "https://vnexpress.net/lam-sao-chuyen-ho-khau-cho-con-khi-chong-cu-khong-dong-y-4098305.html\n",
      "https://vnexpress.net/vac-sung-ban-nguoi-di-duong-4099573.html\n",
      "https://vnexpress.net/csgt-duoc-phep-dung-xe-khong-can-loi-ban-dau-4099546.html\n",
      "https://vnexpress.net/linh-an-tu-hinh-vi-ham-70-trieu-dong-4099495.html\n",
      "https://vnexpress.net/hai-chi-em-mang-quan-tai-di-gay-roi-4099358.html\n",
      "https://vnexpress.net/trinh-bao-bat-thuong-cua-nguoi-me-4099400.html\n",
      "https://vnexpress.net/vks-sua-diem-thi-o-hoa-binh-la-vu-an-co-to-chuc-4099096.html\n",
      "https://vnexpress.net/hang-chuc-canh-sat-bat-8-tau-hut-cat-4099211.html\n",
      "https://vnexpress.net/lua-chay-vao-truong-an-ninh-gia-400-trieu-dong-4099312.html\n",
      "https://vnexpress.net/ke-hoach-nhan-toi-thay-bat-thanh-trong-vu-an-nang-diem-thi-4099234.html\n",
      "https://vnexpress.net/gia-lam-thay-day-vo-de-sam-so-phu-nu-4099226.html\n",
      "https://vnexpress.net/khach-trom-do-tho-cua-gia-chu-4099210.html\n",
      "https://vnexpress.net/gay-tai-nan-giao-thong-trong-truong-hop-nao-se-bi-di-tu-4099167.html\n",
      "https://vnexpress.net/xa-trom-hon-3-700-lit-ruou-vang-trong-xe-tec-dang-chay-4098074.html\n",
      "https://vnexpress.net/bon-ngay-tim-con-trai-bi-bi-thu-xa-giet-4099006.html\n",
      "https://vnexpress.net/kien-ban-than-doi-hai-ve-so-trung-doc-dac-4098926.html\n",
      "https://vnexpress.net/cong-to-vien-phai-giao-chung-cu-go-toi-cho-bi-cao-4098986.html\n",
      "https://vnexpress.net/cach-nao-cap-lai-bien-so-xe-khi-khong-chinh-chu-4098300.html\n",
      "https://vnexpress.net/danh-ke-cuop-the-nao-moi-la-phong-ve-chinh-dang-4098108.html\n",
      "https://vnexpress.net/vuot-gan-800-km-di-an-trom-4099564.html\n",
      "https://vnexpress.net/tong-tien-co-giao-mam-non-bang-clip-nong-4098962.html\n",
      "https://vnexpress.net/trum-buon-ban-ma-tuy-bi-bat-giu-4098991.html\n",
      "https://vnexpress.net/linh-20-nam-tu-vi-giet-vo-sap-cuoi-4099002.html\n",
      "https://vnexpress.net/giam-doc-chi-dao-nhan-vien-cuong-doat-tien-4098976.html\n",
      "https://vnexpress.net/phu-huynh-buc-xuc-vi-con-bi-nang-diem-4098915.html\n",
      "https://vnexpress.net/vo-chong-loan-ca-bi-khoi-to-4098646.html\n",
      "https://vnexpress.net/mat-mang-khi-cam-kiem-katana-lao-vao-canh-sat-4098732.html\n",
      "https://vnexpress.net/so-do-dang-the-chap-co-duoc-chuyen-muc-dich-su-dung-dat-4098829.html\n",
      "https://vnexpress.net/nem-bom-xang-vao-phong-tro-4-nguoi-bi-thuong-4098735.html\n",
      "https://vnexpress.net/giao-vien-khai-cham-noi-tay-vi-muon-thi-sinh-do-dai-hoc-4098666.html\n",
      "https://vnexpress.net/me-bi-dieu-tra-ve-cai-chet-cua-con-trai-18-thang-tuoi-4098525.html\n",
      "https://vnexpress.net/no-sang-my-lam-viec-chi-ton-30-trieu-dong-de-lua-dao-4098434.html\n",
      "https://vnexpress.net/cay-doc-sinh-qua-doc-nguyen-tac-ngan-canh-sat-lam-sai-4098407.html\n",
      "https://vnexpress.net/ca-si-lan-trinh-thang-kien-4098408.html\n",
      "https://vnexpress.net/lua-co-gai-quan-he-tinh-duc-de-giai-han-4098396.html\n",
      "https://vnexpress.net/can-bo-cham-thi-khai-bi-ep-nang-diem-mon-ngu-van-4098339.html\n",
      "https://vnexpress.net/muc-an-voi-20-nguoi-trong-sai-pham-quan-ly-dat-o-da-nang-4098378.html\n",
      "suc-khoe-link.txt\n",
      "https://vnexpress.net/5-cau-hoi-truoc-moi-ca-ghep-phoi-4100141.html\n",
      "https://vnexpress.net/covid-19-so-benh-nhan-len-58-4071803.html\n",
      "https://vnexpress.net/covid-19-gay-suy-tang-man-tinh-4100218.html\n",
      "https://vnexpress.net/be-gai-suyt-chet-do-hoi-chung-hiem-gap-lien-quan-covid-19-4099886.html\n"
     ]
    },
    {
     "name": "stdout",
     "output_type": "stream",
     "text": [
      "https://vnexpress.net/who-canh-bao-bien-chung-hiem-gap-o-tre-mac-covid-19-4100225.html\n",
      "https://vnexpress.net/khoi-u-trong-mieng-bien-thanh-ung-thu-4100109.html\n",
      "https://vnexpress.net/nut-ne-khap-nguoi-do-uong-thuoc-vay-nen-troi-noi-4100176.html\n",
      "https://vnexpress.net/4-phut-tieu-mo-toan-than-phai-dep-4100059.html\n",
      "https://vnexpress.net/them-mot-ca-duong-tinh-ncov-4100231.html\n",
      "https://vnexpress.net/nguon-phoi-nao-de-ghep-cho-benh-nhan-phi-cong-4100102.html\n",
      "https://vnexpress.net/5-loai-cay-trong-trong-nha-tot-cho-suc-khoe-4100066.html\n",
      "https://vnexpress.net/10-phut-buoi-sang-luyen-co-bung-6-mui-4100075.html\n",
      "https://vnexpress.net/suc-khoe/chat-xo-co-the-lam-giam-nguy-co-ung-thu-vu-4099840.html\n",
      "https://vnexpress.net/vaccine/co-nen-tiem-vaccine-phong-soi-4099872.html\n",
      "https://vnexpress.net/tre-em-nhiem-ncov-khac-gi-nguoi-lon-4099817.html\n",
      "https://vnexpress.net/them-mot-ca-nhiem-ncov-4100161.html\n",
      "https://vnexpress.net/benh-nhan-phi-cong-am-tinh-ncov-8-ngay-lien-tiep-4100053.html\n",
      "https://vnexpress.net/benh-nhan-phi-cong-khong-co-nguoi-than-4099964.html\n",
      "https://vnexpress.net/ba-cu-108-tuoi-chien-thang-hai-dai-dich-4099891.html\n",
      "https://vnexpress.net/benh-nhan-52-xet-nghiem-nhieu-lan-nhat-viet-nam-4099782.html\n",
      "https://vnexpress.net/thit-lon-dat-an-gi-thay-the-4099826.html\n",
      "https://vnexpress.net/dau-hieu-tre-bi-bien-chung-hiem-gap-do-covid-19-4099805.html\n",
      "https://vnexpress.net/40-nguoi-muon-hien-phoi-cuu-benh-nhan-phi-cong-4099744.html\n",
      "https://vnexpress.net/3-me-sinh-non-3-con-cung-mot-ngay-4099683.html\n",
      "https://vnexpress.net/lhq-canh-bao-khung-hoang-tam-than-vi-covid-19-4099527.html\n",
      "https://vnexpress.net/them-24-ca-duong-tinh-ncov-4099623.html\n",
      "https://vnexpress.net/hien-tuong-ngon-chan-covid-4099463.html\n",
      "https://vnexpress.net/ngung-tim-do-suy-than-cap-4100060.html\n",
      "https://vnexpress.net/keu-goi-nguoi-khoi-covid-19-hien-huyet-tuong-4099836.html\n",
      "https://vnexpress.net/mui-tiem-2-trong-1-giup-kiem-soat-duong-huyet-4099716.html\n",
      "https://vnexpress.net/lan-song-covid-19-thu-hai-de-doa-chau-au-mua-thu-dong-4099730.html\n",
      "https://vnexpress.net/hai-ly-ca-phe-giup-phu-nu-giam-mo-bung-4099497.html\n",
      "https://vnexpress.net/cu-ong-bi-nhoi-mau-co-tim-tac-ba-dong-mach-4099363.html\n",
      "https://vnexpress.net/bai-tap-khong-dung-cu-cho-bo-vai-thon-tha-4099275.html\n",
      "https://vnexpress.net/suc-khoe/dinh-duong-cho-benh-nhan-ung-thu-giai-doan-muon-4099924.html\n",
      "https://vnexpress.net/vaccine/nhung-dieu-can-biet-ve-benh-soi-4099506.html\n",
      "https://vnexpress.net/bat-dau-tim-kiem-phoi-ghep-cho-benh-nhan-phi-cong-4099537.html\n",
      "https://vnexpress.net/dot-mach-mau-trong-bung-me-de-cuu-hai-thai-nhi-4099352.html\n",
      "https://vnexpress.net/bac-si-doi-mau-da-do-ncov-xuat-vien-4099375.html\n",
      "https://vnexpress.net/nu-bac-si-khoi-covid-19-4099326.html\n",
      "https://vnexpress.net/be-12-tuoi-mac-di-tat-mang-trinh-khong-thung-4099101.html\n",
      "https://vnexpress.net/nga-ky-vong-vao-thuoc-khang-virus-cua-nhat-4099181.html\n",
      "https://vnexpress.net/10-thuc-pham-giup-tre-phat-trien-chieu-cao-4099233.html\n",
      "https://vnexpress.net/san-day-dai-8-m-ky-sinh-trong-hai-me-con-4099364.html\n",
      "https://vnexpress.net/covid-19-tan-cong-noi-tang-co-the-4099361.html\n",
      "https://vnexpress.net/bien-tau-bai-tap-thanh-dieu-nhay-vui-nhon-4098302.html\n",
      "https://vnexpress.net/bien-chung-hiem-gap-o-tre-mac-covid-19-4099281.html\n",
      "https://vnexpress.net/can-nhieu-loai-vaccine-de-ngua-covid-19-4099161.html\n",
      "https://vnexpress.net/thieu-nien-chet-vi-hoi-chung-moi-lien-quan-covid-19-4099114.html\n",
      "https://vnexpress.net/lay-mau-chuot-de-danh-gia-vaccine-covid-19-4099135.html\n",
      "https://vnexpress.net/tranh-thu-phau-thuat-tham-my-giua-dich-covid-19-4098686.html\n"
     ]
    }
   ],
   "source": [
    "txt_file = ['giao-duc-link.txt','phap-luat-link.txt','suc-khoe-link.txt']\n",
    "all_contents = []\n",
    "label = []\n",
    "data = {}\n",
    "i = 0\n",
    "for file in txt_file:\n",
    "\twith open(file,'r') as f:\n",
    "\t\tprint(file)\n",
    "\t\tfor link in f:\n",
    "\n",
    "\t\t\tprint(link.strip())\n",
    "\n",
    "\t\t\tpage_content = load_page_content(link.strip())\n",
    "\n",
    "\t\t\tall_contents.append(page_content)\n",
    "\t\t\tlabel.append(i)\n",
    "\ti += 1\n",
    "\n",
    "data['datas'] = all_contents\n",
    "data['labels'] = label\n",
    "df = pd.DataFrame.from_dict(data)"
   ]
  },
  {
   "cell_type": "code",
   "execution_count": 68,
   "metadata": {
    "scrolled": true
   },
   "outputs": [
    {
     "data": {
      "text/html": [
       "<div>\n",
       "<style scoped>\n",
       "    .dataframe tbody tr th:only-of-type {\n",
       "        vertical-align: middle;\n",
       "    }\n",
       "\n",
       "    .dataframe tbody tr th {\n",
       "        vertical-align: top;\n",
       "    }\n",
       "\n",
       "    .dataframe thead th {\n",
       "        text-align: right;\n",
       "    }\n",
       "</style>\n",
       "<table border=\"1\" class=\"dataframe\">\n",
       "  <thead>\n",
       "    <tr style=\"text-align: right;\">\n",
       "      <th></th>\n",
       "      <th>datas</th>\n",
       "      <th>labels</th>\n",
       "    </tr>\n",
       "  </thead>\n",
       "  <tbody>\n",
       "    <tr>\n",
       "      <th>148</th>\n",
       "      <td>Các nhà khoa học chỉ ra rằng biến chứng hiếm ...</td>\n",
       "      <td>2</td>\n",
       "    </tr>\n",
       "    <tr>\n",
       "      <th>149</th>\n",
       "      <td>Một nghiên cứu do các chuyên gia hàng đầu thế...</td>\n",
       "      <td>2</td>\n",
       "    </tr>\n",
       "    <tr>\n",
       "      <th>150</th>\n",
       "      <td>AnhBệnh nhân 14 tuổi ở London, không có bệnh ...</td>\n",
       "      <td>2</td>\n",
       "    </tr>\n",
       "    <tr>\n",
       "      <th>151</th>\n",
       "      <td>Viện Vệ sinh dịch tễ Trung ương hôm nay sẽ đá...</td>\n",
       "      <td>2</td>\n",
       "    </tr>\n",
       "    <tr>\n",
       "      <th>152</th>\n",
       "      <td>Nhiều bệnh nhân coi đại dịch là “thời điểm và...</td>\n",
       "      <td>2</td>\n",
       "    </tr>\n",
       "  </tbody>\n",
       "</table>\n",
       "</div>"
      ],
      "text/plain": [
       "                                                 datas  labels\n",
       "148   Các nhà khoa học chỉ ra rằng biến chứng hiếm ...       2\n",
       "149   Một nghiên cứu do các chuyên gia hàng đầu thế...       2\n",
       "150   AnhBệnh nhân 14 tuổi ở London, không có bệnh ...       2\n",
       "151   Viện Vệ sinh dịch tễ Trung ương hôm nay sẽ đá...       2\n",
       "152   Nhiều bệnh nhân coi đại dịch là “thời điểm và...       2"
      ]
     },
     "execution_count": 68,
     "metadata": {},
     "output_type": "execute_result"
    }
   ],
   "source": [
    "df.tail()\n"
   ]
  },
  {
   "cell_type": "code",
   "execution_count": 69,
   "metadata": {},
   "outputs": [],
   "source": [
    "train_x, valid_x, train_y, valid_y = model_selection.train_test_split(df['datas'], df['labels'])\n",
    "encoder = preprocessing.LabelEncoder()\n",
    "train_y = encoder.fit_transform(train_y)\n",
    "valid_y = encoder.fit_transform(valid_y)"
   ]
  },
  {
   "cell_type": "code",
   "execution_count": 70,
   "metadata": {},
   "outputs": [],
   "source": [
    "count_vect = CountVectorizer(analyzer='word', token_pattern=r'\\w{1,}')\n",
    "count_vect.fit(df['datas'])\n",
    "# transform the training and validation data using count vectorizer object\n",
    "xtrain_count =  count_vect.transform(train_x)\n",
    "xvalid_count =  count_vect.transform(valid_x)"
   ]
  },
  {
   "cell_type": "code",
   "execution_count": 71,
   "metadata": {},
   "outputs": [
    {
     "data": {
      "text/plain": [
       "RandomForestClassifier(bootstrap=True, ccp_alpha=0.0, class_weight=None,\n",
       "                       criterion='gini', max_depth=None, max_features='auto',\n",
       "                       max_leaf_nodes=None, max_samples=None,\n",
       "                       min_impurity_decrease=0.0, min_impurity_split=None,\n",
       "                       min_samples_leaf=1, min_samples_split=2,\n",
       "                       min_weight_fraction_leaf=0.0, n_estimators=100,\n",
       "                       n_jobs=None, oob_score=False, random_state=None,\n",
       "                       verbose=0, warm_start=False)"
      ]
     },
     "execution_count": 71,
     "metadata": {},
     "output_type": "execute_result"
    }
   ],
   "source": [
    "from sklearn.ensemble import RandomForestClassifier\n",
    "model = RandomForestClassifier(n_estimators=100)\n",
    "model.fit(xtrain_count,train_y)"
   ]
  },
  {
   "cell_type": "code",
   "execution_count": 72,
   "metadata": {
    "scrolled": false
   },
   "outputs": [
    {
     "name": "stdout",
     "output_type": "stream",
     "text": [
      "Accuracy: 0.9743589743589743\n"
     ]
    }
   ],
   "source": [
    "y_pred=model.predict(xvalid_count)\n",
    "print(\"Accuracy:\",metrics.accuracy_score(valid_y, y_pred))\n"
   ]
  },
  {
   "cell_type": "code",
   "execution_count": 63,
   "metadata": {},
   "outputs": [],
   "source": [
    "link = 'https://vnexpress.net/hoc-phi-thcs-thpt-cac-truong-quoc-te-o-ha-noi-4099852.html'\n",
    "page_content = load_page_content(link)\n"
   ]
  }
 ],
 "metadata": {
  "kernelspec": {
   "display_name": "Python 3",
   "language": "python",
   "name": "python3"
  },
  "language_info": {
   "codemirror_mode": {
    "name": "ipython",
    "version": 3
   },
   "file_extension": ".py",
   "mimetype": "text/x-python",
   "name": "python",
   "nbconvert_exporter": "python",
   "pygments_lexer": "ipython3",
   "version": "3.5.4"
  }
 },
 "nbformat": 4,
 "nbformat_minor": 2
}
